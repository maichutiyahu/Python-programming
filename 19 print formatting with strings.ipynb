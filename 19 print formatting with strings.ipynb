{
 "cells": [
  {
   "cell_type": "markdown",
   "id": "8df5f083",
   "metadata": {},
   "source": [
    ".format() method\n"
   ]
  },
  {
   "cell_type": "code",
   "execution_count": 4,
   "id": "52f0189d",
   "metadata": {},
   "outputs": [
    {
     "name": "stdout",
     "output_type": "stream",
     "text": [
      "This is a string INSERTED\n"
     ]
    }
   ],
   "source": [
    "print('This is a string {}' .format('INSERTED'))"
   ]
  },
  {
   "cell_type": "code",
   "execution_count": 5,
   "id": "b9fc097e",
   "metadata": {},
   "outputs": [
    {
     "name": "stdout",
     "output_type": "stream",
     "text": [
      "The fox brown quick\n"
     ]
    }
   ],
   "source": [
    "print('The {} {} {}' .format('fox','brown', 'quick'))"
   ]
  },
  {
   "cell_type": "code",
   "execution_count": 6,
   "id": "677dfb14",
   "metadata": {},
   "outputs": [
    {
     "name": "stdout",
     "output_type": "stream",
     "text": [
      "The quick brown fox\n"
     ]
    }
   ],
   "source": [
    "print('The {2} {1} {0}' .format('fox','brown', 'quick'))"
   ]
  },
  {
   "cell_type": "code",
   "execution_count": 7,
   "id": "64efdab0",
   "metadata": {},
   "outputs": [
    {
     "name": "stdout",
     "output_type": "stream",
     "text": [
      "The fox fox fox\n"
     ]
    }
   ],
   "source": [
    "print('The {0} {0} {0}' .format('fox','brown', 'quick'))"
   ]
  },
  {
   "cell_type": "code",
   "execution_count": 8,
   "id": "11d43956",
   "metadata": {},
   "outputs": [
    {
     "name": "stdout",
     "output_type": "stream",
     "text": [
      "The quick brown fox\n"
     ]
    }
   ],
   "source": [
    "print('The {q} {b} {f}' .format(f='fox', b='brown', q='quick'))"
   ]
  },
  {
   "cell_type": "code",
   "execution_count": 9,
   "id": "cd6b650e",
   "metadata": {},
   "outputs": [
    {
     "name": "stdout",
     "output_type": "stream",
     "text": [
      "The fox fox fox\n"
     ]
    }
   ],
   "source": [
    "print('The {f} {f} {f}' .format(f='fox', b='brown', q='quick'))"
   ]
  },
  {
   "cell_type": "markdown",
   "id": "2376f5fb",
   "metadata": {},
   "source": [
    "Float Formatting"
   ]
  },
  {
   "cell_type": "code",
   "execution_count": 10,
   "id": "3b76d7c2",
   "metadata": {},
   "outputs": [],
   "source": [
    "result= 100/777"
   ]
  },
  {
   "cell_type": "code",
   "execution_count": 11,
   "id": "0ba58f24",
   "metadata": {},
   "outputs": [
    {
     "data": {
      "text/plain": [
       "0.1287001287001287"
      ]
     },
     "execution_count": 11,
     "metadata": {},
     "output_type": "execute_result"
    }
   ],
   "source": [
    "result"
   ]
  },
  {
   "cell_type": "code",
   "execution_count": 15,
   "id": "9fc4ff39",
   "metadata": {},
   "outputs": [
    {
     "name": "stdout",
     "output_type": "stream",
     "text": [
      "The result was 0.1287001287001287\n"
     ]
    }
   ],
   "source": [
    "print('The result was {}' .format(result))"
   ]
  },
  {
   "cell_type": "code",
   "execution_count": 14,
   "id": "85a904a1",
   "metadata": {},
   "outputs": [
    {
     "name": "stdout",
     "output_type": "stream",
     "text": [
      "The result was result\n"
     ]
    }
   ],
   "source": [
    "print('The result was {}' .format('result'))"
   ]
  },
  {
   "cell_type": "code",
   "execution_count": 16,
   "id": "8bc215bb",
   "metadata": {},
   "outputs": [
    {
     "name": "stdout",
     "output_type": "stream",
     "text": [
      "The result was result\n"
     ]
    }
   ],
   "source": [
    "print('The result was {r}' .format(r='result'))"
   ]
  },
  {
   "cell_type": "code",
   "execution_count": 17,
   "id": "38ae8fa5",
   "metadata": {},
   "outputs": [
    {
     "name": "stdout",
     "output_type": "stream",
     "text": [
      "The result was 0.1287001287001287\n"
     ]
    }
   ],
   "source": [
    "print('The result was {r}' .format(r=result))"
   ]
  },
  {
   "cell_type": "code",
   "execution_count": 18,
   "id": "21e14d4b",
   "metadata": {},
   "outputs": [
    {
     "name": "stdout",
     "output_type": "stream",
     "text": [
      "The result was 0.129\n"
     ]
    }
   ],
   "source": [
    "print('The result was {r:1.3f}' .format(r=result))"
   ]
  },
  {
   "cell_type": "code",
   "execution_count": 19,
   "id": "a43ba73e",
   "metadata": {},
   "outputs": [
    {
     "name": "stdout",
     "output_type": "stream",
     "text": [
      "The result was      0.129\n"
     ]
    }
   ],
   "source": [
    "print('The result was {r:10.3f}' .format(r=result))"
   ]
  },
  {
   "cell_type": "code",
   "execution_count": 20,
   "id": "59233031",
   "metadata": {},
   "outputs": [
    {
     "name": "stdout",
     "output_type": "stream",
     "text": [
      "The result was 0.12870\n"
     ]
    }
   ],
   "source": [
    "print('The result was {r:1.5f}' .format(r=result))"
   ]
  },
  {
   "cell_type": "code",
   "execution_count": 22,
   "id": "739fc21d",
   "metadata": {},
   "outputs": [],
   "source": [
    "result=104.12345"
   ]
  },
  {
   "cell_type": "code",
   "execution_count": 23,
   "id": "7c06a605",
   "metadata": {},
   "outputs": [
    {
     "name": "stdout",
     "output_type": "stream",
     "text": [
      "The result was 104.12345\n"
     ]
    }
   ],
   "source": [
    "print('The result was {r:1.5f}' .format(r=result))"
   ]
  },
  {
   "cell_type": "code",
   "execution_count": 24,
   "id": "f0030d75",
   "metadata": {},
   "outputs": [],
   "source": [
    "name='Jose'"
   ]
  },
  {
   "cell_type": "code",
   "execution_count": 25,
   "id": "864d0903",
   "metadata": {},
   "outputs": [
    {
     "name": "stdout",
     "output_type": "stream",
     "text": [
      "Heloo his name is Jose\n"
     ]
    }
   ],
   "source": [
    "print('Heloo his name is {}' .format(name))"
   ]
  },
  {
   "cell_type": "markdown",
   "id": "513de355",
   "metadata": {},
   "source": [
    "f-string"
   ]
  },
  {
   "cell_type": "code",
   "execution_count": 26,
   "id": "e261dabe",
   "metadata": {},
   "outputs": [],
   "source": [
    "name=\"Jose\""
   ]
  },
  {
   "cell_type": "code",
   "execution_count": 27,
   "id": "9eae517d",
   "metadata": {},
   "outputs": [
    {
     "name": "stdout",
     "output_type": "stream",
     "text": [
      "Hello, his name is Jose\n"
     ]
    }
   ],
   "source": [
    "print(f'Hello, his name is {name}')"
   ]
  },
  {
   "cell_type": "code",
   "execution_count": 28,
   "id": "8aa2cd13",
   "metadata": {},
   "outputs": [
    {
     "ename": "SyntaxError",
     "evalue": "f-string: expecting '}' (376061024.py, line 1)",
     "output_type": "error",
     "traceback": [
      "\u001b[1;36m  Input \u001b[1;32mIn [28]\u001b[1;36m\u001b[0m\n\u001b[1;33m    print(f'Hello, his name is {'name'}')\u001b[0m\n\u001b[1;37m                                 ^\u001b[0m\n\u001b[1;31mSyntaxError\u001b[0m\u001b[1;31m:\u001b[0m f-string: expecting '}'\n"
     ]
    }
   ],
   "source": [
    "print(f'Hello, his name is {'name'}')"
   ]
  },
  {
   "cell_type": "code",
   "execution_count": 29,
   "id": "4188dc6a",
   "metadata": {},
   "outputs": [],
   "source": [
    "name='Sam'\n",
    "Age='3'"
   ]
  },
  {
   "cell_type": "code",
   "execution_count": 30,
   "id": "32ab159c",
   "metadata": {},
   "outputs": [
    {
     "name": "stdout",
     "output_type": "stream",
     "text": [
      "Sam is 3 years old.\n"
     ]
    }
   ],
   "source": [
    "print(f'{name} is {Age} years old.')"
   ]
  },
  {
   "cell_type": "code",
   "execution_count": 31,
   "id": "362090b4",
   "metadata": {},
   "outputs": [],
   "source": [
    "name='Sam'\n",
    "age=3"
   ]
  },
  {
   "cell_type": "code",
   "execution_count": 32,
   "id": "fa02d84d",
   "metadata": {},
   "outputs": [
    {
     "name": "stdout",
     "output_type": "stream",
     "text": [
      "Sam is 3 years old.\n"
     ]
    }
   ],
   "source": [
    "print(f'{name} is {age} years old.')"
   ]
  },
  {
   "cell_type": "code",
   "execution_count": null,
   "id": "5b237de5",
   "metadata": {},
   "outputs": [],
   "source": []
  }
 ],
 "metadata": {
  "kernelspec": {
   "display_name": "Python 3 (ipykernel)",
   "language": "python",
   "name": "python3"
  },
  "language_info": {
   "codemirror_mode": {
    "name": "ipython",
    "version": 3
   },
   "file_extension": ".py",
   "mimetype": "text/x-python",
   "name": "python",
   "nbconvert_exporter": "python",
   "pygments_lexer": "ipython3",
   "version": "3.9.12"
  }
 },
 "nbformat": 4,
 "nbformat_minor": 5
}
