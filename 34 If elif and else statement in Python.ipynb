{
 "cells": [
  {
   "cell_type": "code",
   "execution_count": 2,
   "id": "4f14737b",
   "metadata": {},
   "outputs": [
    {
     "name": "stdout",
     "output_type": "stream",
     "text": [
      "ITS TRUE!\n"
     ]
    }
   ],
   "source": [
    "if True:\n",
    "    print('ITS TRUE!')"
   ]
  },
  {
   "cell_type": "code",
   "execution_count": 3,
   "id": "6f07261d",
   "metadata": {},
   "outputs": [
    {
     "name": "stdout",
     "output_type": "stream",
     "text": [
      "ITS TRUE!\n"
     ]
    }
   ],
   "source": [
    "if 3>2:\n",
    "    print('ITS TRUE!')"
   ]
  },
  {
   "cell_type": "code",
   "execution_count": 4,
   "id": "c6be614c",
   "metadata": {},
   "outputs": [
    {
     "name": "stdout",
     "output_type": "stream",
     "text": [
      "FEED ME!\n"
     ]
    }
   ],
   "source": [
    "hungry=True\n",
    "if hungry:\n",
    "    print('FEED ME!')\n"
   ]
  },
  {
   "cell_type": "code",
   "execution_count": 9,
   "id": "39157cc4",
   "metadata": {},
   "outputs": [],
   "source": [
    "Hungry=False\n",
    "if Hungry:\n",
    "    print('FEED ME!')"
   ]
  },
  {
   "cell_type": "code",
   "execution_count": 11,
   "id": "4771251f",
   "metadata": {},
   "outputs": [
    {
     "name": "stdout",
     "output_type": "stream",
     "text": [
      "I am not hungry\n"
     ]
    }
   ],
   "source": [
    "hungry=False\n",
    "\n",
    "if hungry:\n",
    "    print('FEED ME!')\n",
    "else:\n",
    "     print(\"I am not hungry\")"
   ]
  },
  {
   "cell_type": "code",
   "execution_count": 12,
   "id": "b0d390aa",
   "metadata": {},
   "outputs": [
    {
     "name": "stdout",
     "output_type": "stream",
     "text": [
      "FEED ME!\n"
     ]
    }
   ],
   "source": [
    "hungry=True\n",
    "if hungry:\n",
    "    print('FEED ME!')\n",
    "else:\n",
    "    print('I am not hungry')"
   ]
  },
  {
   "cell_type": "code",
   "execution_count": 13,
   "id": "721ebf51",
   "metadata": {},
   "outputs": [
    {
     "name": "stdout",
     "output_type": "stream",
     "text": [
      "FEED ME!\n"
     ]
    }
   ],
   "source": [
    "hungry=True\n",
    "if hungry==True:\n",
    "    print('FEED ME!')\n",
    "else:\n",
    "    print('I am not hungry')"
   ]
  },
  {
   "cell_type": "code",
   "execution_count": 15,
   "id": "b0eb33b3",
   "metadata": {},
   "outputs": [
    {
     "name": "stdout",
     "output_type": "stream",
     "text": [
      "I do not know much\n"
     ]
    }
   ],
   "source": [
    "loc='Bank'\n",
    "\n",
    "if loc=='Auto shop':\n",
    "    print('Cars are cool!')\n",
    "else:\n",
    "    print(\"I do not know much\")\n"
   ]
  },
  {
   "cell_type": "code",
   "execution_count": 16,
   "id": "277678df",
   "metadata": {},
   "outputs": [
    {
     "name": "stdout",
     "output_type": "stream",
     "text": [
      "Money is cool!\n"
     ]
    }
   ],
   "source": [
    "loc='Bank'\n",
    "if loc=='Auto shop':\n",
    "    print('Cars are cool!')\n",
    "elif loc=='Bank':\n",
    "    print('Money is cool!')\n",
    "else:\n",
    "    print(\"I do not know much\")\n"
   ]
  },
  {
   "cell_type": "code",
   "execution_count": 17,
   "id": "44a69cc5",
   "metadata": {},
   "outputs": [
    {
     "name": "stdout",
     "output_type": "stream",
     "text": [
      "Money is cool!\n"
     ]
    }
   ],
   "source": [
    "loc='Bank'\n",
    "if loc=='Auto shop':\n",
    "    print('Cars are cool!')\n",
    "elif loc=='Bank':\n",
    "    print('Money is cool!')\n",
    "elif loc=='Store':\n",
    "    print('Welcome to the store')\n",
    "else:\n",
    "    print(\"I do not know much\")\n"
   ]
  },
  {
   "cell_type": "code",
   "execution_count": 18,
   "id": "9c673975",
   "metadata": {},
   "outputs": [
    {
     "name": "stdout",
     "output_type": "stream",
     "text": [
      "Welcome to the store\n"
     ]
    }
   ],
   "source": [
    "loc='Store'\n",
    "if loc=='Auto shop':\n",
    "    print('Cars are cool!')\n",
    "elif loc=='Bank':\n",
    "    print('Money is cool!')\n",
    "elif loc=='Store':\n",
    "    print('Welcome to the store')\n",
    "else:\n",
    "    print(\"I do not know much\")\n"
   ]
  },
  {
   "cell_type": "code",
   "execution_count": 19,
   "id": "0f94638d",
   "metadata": {},
   "outputs": [
    {
     "name": "stdout",
     "output_type": "stream",
     "text": [
      "I do not know much\n"
     ]
    }
   ],
   "source": [
    "loc='Gamee'\n",
    "if loc=='Auto shop':\n",
    "    print('Cars are cool!')\n",
    "elif loc=='Bank':\n",
    "    print('Money is cool!')\n",
    "elif loc=='Store':\n",
    "    print('Welcome to the store')\n",
    "else:\n",
    "    print(\"I do not know much\")\n"
   ]
  },
  {
   "cell_type": "code",
   "execution_count": 22,
   "id": "ef4f015a",
   "metadata": {},
   "outputs": [
    {
     "name": "stdout",
     "output_type": "stream",
     "text": [
      "Hello Sammy!\n"
     ]
    }
   ],
   "source": [
    "name='Sammy'\n",
    "if name =='Frankie':\n",
    "    print('Hello Frankie!')\n",
    "elif name=='Sammy':\n",
    "    print('Hello Sammy!')\n",
    "else:\n",
    "    print('Whar is your name?')\n",
    "        "
   ]
  },
  {
   "cell_type": "code",
   "execution_count": 24,
   "id": "1f1883cb",
   "metadata": {},
   "outputs": [
    {
     "name": "stdout",
     "output_type": "stream",
     "text": [
      "Hello Frankie!\n"
     ]
    }
   ],
   "source": [
    "name='Frankie'\n",
    "if name =='Frankie':\n",
    "    print('Hello Frankie!')\n",
    "elif name=='Sammy':\n",
    "    print('Hello Sammy!')\n",
    "else:\n",
    "    print('Whar is your name?')\n",
    "        "
   ]
  },
  {
   "cell_type": "code",
   "execution_count": 25,
   "id": "8202b1d0",
   "metadata": {},
   "outputs": [
    {
     "name": "stdout",
     "output_type": "stream",
     "text": [
      "Whar is your name?\n"
     ]
    }
   ],
   "source": [
    "name='Shreya'\n",
    "if name =='Frankie':\n",
    "    print('Hello Frankie!')\n",
    "elif name=='Sammy':\n",
    "    print('Hello Sammy!')\n",
    "else:\n",
    "    print('Whar is your name?')\n",
    "        "
   ]
  },
  {
   "cell_type": "code",
   "execution_count": 5,
   "id": "ee22b3dd",
   "metadata": {},
   "outputs": [
    {
     "ename": "SyntaxError",
     "evalue": "invalid syntax (3905589876.py, line 3)",
     "output_type": "error",
     "traceback": [
      "\u001b[1;36m  Input \u001b[1;32mIn [5]\u001b[1;36m\u001b[0m\n\u001b[1;33m    if x begins with 's':\u001b[0m\n\u001b[1;37m         ^\u001b[0m\n\u001b[1;31mSyntaxError\u001b[0m\u001b[1;31m:\u001b[0m invalid syntax\n"
     ]
    }
   ],
   "source": [
    "name='shreya is goog'\n",
    "for x in name:\n",
    "    if x begins with 's':\n",
    "        print(x)"
   ]
  },
  {
   "cell_type": "code",
   "execution_count": null,
   "id": "1522e113",
   "metadata": {},
   "outputs": [],
   "source": []
  }
 ],
 "metadata": {
  "kernelspec": {
   "display_name": "Python 3 (ipykernel)",
   "language": "python",
   "name": "python3"
  },
  "language_info": {
   "codemirror_mode": {
    "name": "ipython",
    "version": 3
   },
   "file_extension": ".py",
   "mimetype": "text/x-python",
   "name": "python",
   "nbconvert_exporter": "python",
   "pygments_lexer": "ipython3",
   "version": "3.9.12"
  }
 },
 "nbformat": 4,
 "nbformat_minor": 5
}
